{
 "cells": [
  {
   "cell_type": "markdown",
   "id": "a9b00b41",
   "metadata": {},
   "source": [
    "### 1.\tWrite a Python program to find words which are greater than given length k?"
   ]
  },
  {
   "cell_type": "code",
   "execution_count": 2,
   "id": "ab5b8855",
   "metadata": {},
   "outputs": [
    {
     "name": "stdout",
     "output_type": "stream",
     "text": [
      "Enter the length 6\n",
      "Pineapple\n",
      "Papayas\n",
      "Sapotas\n"
     ]
    }
   ],
   "source": [
    "l=[\"Mango\",\"Banana\",\"Grapes\",\"Pineapple\",\"Apple\",\"Orange\",\"Papayas\",\"Sapotas\"]\n",
    "n=int(input(\"Enter the length \"))\n",
    "for i in l:\n",
    "    if len(i)>n:\n",
    "        print(i)"
   ]
  },
  {
   "cell_type": "markdown",
   "id": "fe194fad",
   "metadata": {},
   "source": [
    "### 2.\tWrite a Python program for removing i-th character from a string?"
   ]
  },
  {
   "cell_type": "code",
   "execution_count": 21,
   "id": "0c2c6d96",
   "metadata": {},
   "outputs": [
    {
     "name": "stdout",
     "output_type": "stream",
     "text": [
      "Enter stringCandy\n",
      "Enter which character you want to remove :c\n",
      "andy\n"
     ]
    }
   ],
   "source": [
    "n=input(\"Enter string\")\n",
    "n1=input(\"Enter which character you want to remove :\")\n",
    "n2=\"\"\n",
    "for i in n:\n",
    "    if (i==n1.lower()) or (i==n1.upper()):\n",
    "        pass\n",
    "    else:\n",
    "        n2+=i\n",
    "print(n2)"
   ]
  },
  {
   "cell_type": "markdown",
   "id": "dc7ce967",
   "metadata": {},
   "source": [
    "### 3.\tWrite a Python program to split and join a string?"
   ]
  },
  {
   "cell_type": "code",
   "execution_count": 40,
   "id": "61a48698",
   "metadata": {},
   "outputs": [
    {
     "name": "stdout",
     "output_type": "stream",
     "text": [
      "Splitting a string:\n",
      "['M', 'a', 'n', 'g', 'o']\n",
      "\n",
      "Joining a string :\n",
      "Mango"
     ]
    }
   ],
   "source": [
    "a=\"Mango\"\n",
    "l=[]\n",
    "print(\"Splitting a string:\")\n",
    "for i in a:\n",
    "    l.append(i)\n",
    "print(l)\n",
    "print(\"\\nJoining a string :\")\n",
    "for i in a:\n",
    "    print(i,end=\"\")"
   ]
  },
  {
   "cell_type": "markdown",
   "id": "bdd5f83f",
   "metadata": {},
   "source": [
    "### 4.\tWrite a Python to check if a given string is binary string or not?"
   ]
  },
  {
   "cell_type": "code",
   "execution_count": 47,
   "id": "2b217681",
   "metadata": {},
   "outputs": [
    {
     "name": "stdout",
     "output_type": "stream",
     "text": [
      "010101010e\n",
      "Given string is not binary string\n"
     ]
    }
   ],
   "source": [
    "n=input()\n",
    "b=0\n",
    "n1=['0','1']\n",
    "for i in n:\n",
    "    if i=='0' or i=='1':\n",
    "        b+=1\n",
    "    else:\n",
    "        break\n",
    "if len(n)==b:\n",
    "    print(\"Given string is binary string\")\n",
    "else:\n",
    "    print(\"Given string is not binary string\")"
   ]
  },
  {
   "cell_type": "markdown",
   "id": "12f68ab9",
   "metadata": {},
   "source": [
    "### 5.\tWrite a Python program to find uncommon words from two Strings?"
   ]
  },
  {
   "cell_type": "code",
   "execution_count": 63,
   "id": "5cf464e5",
   "metadata": {},
   "outputs": [
    {
     "name": "stdout",
     "output_type": "stream",
     "text": [
      "Enter 1st wordsallu\n",
      "Enter 2nd wordtillu\n",
      "asti\n"
     ]
    }
   ],
   "source": [
    "n1=input(\"Enter 1st word\")\n",
    "n1=set(n1)\n",
    "n2=input(\"Enter 2nd word\")\n",
    "n2=set(n2)\n",
    "s=''\n",
    "v=\"\"\n",
    "s+=str(n2.intersection(n1))\n",
    "for i in n1:\n",
    "    if i not in s:\n",
    "        v+=i\n",
    "    else:\n",
    "        pass\n",
    "for i in n2:\n",
    "    if i not in s:\n",
    "        v+=i\n",
    "    else:\n",
    "        pass\n",
    "print(v)"
   ]
  },
  {
   "cell_type": "markdown",
   "id": "74337d6b",
   "metadata": {},
   "source": [
    "### 6.\tWrite a Python to find all duplicate characters in string?"
   ]
  },
  {
   "cell_type": "code",
   "execution_count": 87,
   "id": "4f695c6a",
   "metadata": {
    "scrolled": true
   },
   "outputs": [
    {
     "name": "stdout",
     "output_type": "stream",
     "text": [
      "aloo\n",
      "In a given string : \n",
      "'o'  has occured  2 times in a given string so the duplicate is -'o'\n"
     ]
    }
   ],
   "source": [
    "n=input()\n",
    "n1=set(n)\n",
    "k=0\n",
    "print(\"In a given string : \")\n",
    "for i in n1: \n",
    "    if n.count(i)>1:\n",
    "        print(\"\\'\"+i+\"\\'  has occured \",n.count(i),\"times in a given string so the duplicate is -\\'\"+i+\"\\'\")\n",
    "        k+=1\n",
    "    else:\n",
    "        pass\n",
    "if k==0:\n",
    "    print(\"There are no duplicates \")"
   ]
  },
  {
   "cell_type": "markdown",
   "id": "be1dc6ae",
   "metadata": {},
   "source": [
    "### 7.\tWrite a Python Program to check if a string contains any special character?"
   ]
  },
  {
   "cell_type": "code",
   "execution_count": 96,
   "id": "d2f8fdf0",
   "metadata": {},
   "outputs": [
    {
     "name": "stdout",
     "output_type": "stream",
     "text": [
      "iQW#jrhb\n",
      "Given String Contains special character\n"
     ]
    }
   ],
   "source": [
    "s=\" !\\\"$%&\\'()*+,-./:;<=>?@[\\]^_`{|}~#\"\n",
    "k=0\n",
    "n=input()\n",
    "for i in n:\n",
    "    if i in s:\n",
    "        print(\"Given String Contains special character\")\n",
    "        k+=1\n",
    "        break\n",
    "if k==0:\n",
    "    print(\"Given String doesn't contain any special character\")"
   ]
  }
 ],
 "metadata": {
  "kernelspec": {
   "display_name": "Python 3",
   "language": "python",
   "name": "python3"
  },
  "language_info": {
   "codemirror_mode": {
    "name": "ipython",
    "version": 3
   },
   "file_extension": ".py",
   "mimetype": "text/x-python",
   "name": "python",
   "nbconvert_exporter": "python",
   "pygments_lexer": "ipython3",
   "version": "3.8.8"
  }
 },
 "nbformat": 4,
 "nbformat_minor": 5
}
